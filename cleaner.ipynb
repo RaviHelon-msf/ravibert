{
 "cells": [
  {
   "cell_type": "markdown",
   "metadata": {},
   "source": [
    "Data cleaning"
   ]
  },
  {
   "cell_type": "code",
   "execution_count": 3,
   "metadata": {},
   "outputs": [],
   "source": [
    "import regex\n",
    "import spacy"
   ]
  },
  {
   "cell_type": "markdown",
   "metadata": {},
   "source": [
    "Teste:"
   ]
  },
  {
   "cell_type": "code",
   "execution_count": 4,
   "metadata": {},
   "outputs": [
    {
     "name": "stdout",
     "output_type": "stream",
     "text": [
      "\n",
      "Ravi Helon: Eu diria junto de Aristóteles\n",
      "Ravi Helon: Filosofia a partir de Schopenhauer é toda influenciada por entendimento errado dessas filosofias\n",
      "Ravi Helon: E eles falam da mesma coisa de Aristóteles e Agostinho, só que com perspectiva um pouco diferente\n",
      "Ravi Helon: Por exemplo, aquilo que eu falei no teu casamento: Que a evidência de Deus está dentro de nós e que todos que investigam acham. Poderia ser dito por aristóteles, mas li em um livro budista\n",
      "Robson Donato: Rapaz, o tempo de uma vida humana é muito pouco para explorarmos os pensamentos dos principais autores que conhecemos da história\n",
      "Ravi Helon: kkkkk verdade\n",
      "Ravi Helon: Principalmente para a gente que decidiu dedicar a vida a outras coisas\n",
      "Ravi Helon: Você anda acompanhando esse conflito em Israel?\n",
      "Robson Donato: E aí Ravi\n",
      "Robson Donato: Rapaz, só manchete\n",
      "\n"
     ]
    }
   ],
   "source": [
    "doc = \"\"\"\n",
    "25/10/2023 08:46 - Ravi Helon: Por exemplo, aquilo que eu falei no teu casamento: Que a evidência de Deus está dentro de nós e que todos que investigam acham. Poderia ser dito por aristóteles, mas li em um livro budista\n",
    "25/10/2023 09:13 - Robson Donato: Rapaz, o tempo de uma vida humana é muito pouco para explorarmos os pensamentos dos principais autores que conhecemos da história\n",
    "25/10/2023 09:13 - Ravi Helon: kkkkk verdade\n",
    "25/10/2023 09:14 - Ravi Helon: Principalmente para a gente que decidiu dedicar a vida a outras coisas\n",
    "30/10/2023 19:55 - Ravi Helon: Você anda acompanhando esse conflito em Israel?\n",
    "31/10/2023 08:40 - Robson Donato: E aí Ravi\n",
    "31/10/2023 08:40 - Robson Donato: Rapaz, só manchete\n",
    "\"\"\"\n",
    "\n",
    "exp = r\"(\\d\\d\\/\\d\\d\\/\\d\\d\\d\\d \\d\\d\\:\\d\\d \\- )\"\n",
    "\n",
    "new_doc = regex.sub(exp,'',doc)\n",
    "\n",
    "print(new_doc)"
   ]
  },
  {
   "cell_type": "markdown",
   "metadata": {},
   "source": [
    "Na vera:"
   ]
  },
  {
   "cell_type": "code",
   "execution_count": 17,
   "metadata": {},
   "outputs": [],
   "source": [
    "filename = 'assets//conversas.txt'\n",
    "midia = '<Arquivo de mídia oculto>'\n",
    "\n",
    "exp2 = \"^(.+?):\"\n",
    "\n",
    "\n",
    "with open(filename, 'r') as file:\n",
    "    lines = file.readlines()\n",
    "\n",
    "with open(filename, 'w+') as file:\n",
    "    for line in lines:\n",
    "        if midia not in line:\n",
    "            modified_line = regex.sub(exp, '', line)\n",
    "            if 'Ravi Helon' in line:\n",
    "                modified_line = regex.sub(exp2, 'me:', modified_line)\n",
    "            else:\n",
    "                modified_line = regex.sub(exp2, 'other:', modified_line)\n",
    "\n",
    "            file.write(modified_line)"
   ]
  }
 ],
 "metadata": {
  "kernelspec": {
   "display_name": "Python 3",
   "language": "python",
   "name": "python3"
  },
  "language_info": {
   "codemirror_mode": {
    "name": "ipython",
    "version": 3
   },
   "file_extension": ".py",
   "mimetype": "text/x-python",
   "name": "python",
   "nbconvert_exporter": "python",
   "pygments_lexer": "ipython3",
   "version": "3.10.12"
  }
 },
 "nbformat": 4,
 "nbformat_minor": 2
}
