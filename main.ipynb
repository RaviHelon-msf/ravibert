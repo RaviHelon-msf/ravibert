{
 "cells": [
  {
   "cell_type": "code",
   "execution_count": 5,
   "metadata": {},
   "outputs": [
    {
     "name": "stderr",
     "output_type": "stream",
     "text": [
      "Some weights of BertForQuestionAnswering were not initialized from the model checkpoint at bert-base-uncased and are newly initialized: ['qa_outputs.weight', 'qa_outputs.bias']\n",
      "You should probably TRAIN this model on a down-stream task to be able to use it for predictions and inference.\n",
      "/tmp/ipykernel_11211/3949389849.py:35: UserWarning: To copy construct from a tensor, it is recommended to use sourceTensor.clone().detach() or sourceTensor.clone().detach().requires_grad_(True), rather than torch.tensor(sourceTensor).\n",
      "  input_ids = torch.tensor(padded_input_ids)\n",
      "/tmp/ipykernel_11211/3949389849.py:36: UserWarning: To copy construct from a tensor, it is recommended to use sourceTensor.clone().detach() or sourceTensor.clone().detach().requires_grad_(True), rather than torch.tensor(sourceTensor).\n",
      "  attention_mask = torch.tensor(padded_attention_mask)\n",
      "/tmp/ipykernel_11211/3949389849.py:37: UserWarning: To copy construct from a tensor, it is recommended to use sourceTensor.clone().detach() or sourceTensor.clone().detach().requires_grad_(True), rather than torch.tensor(sourceTensor).\n",
      "  start_positions = torch.tensor(padded_start_positions)\n",
      "/home/ravi/.local/lib/python3.10/site-packages/transformers/optimization.py:411: FutureWarning: This implementation of AdamW is deprecated and will be removed in a future version. Use the PyTorch implementation torch.optim.AdamW instead, or set `no_deprecation_warning=True` to disable this warning\n",
      "  warnings.warn(\n"
     ]
    },
    {
     "ename": "NameError",
     "evalue": "name 'device' is not defined",
     "output_type": "error",
     "traceback": [
      "\u001b[0;31m---------------------------------------------------------------------------\u001b[0m",
      "\u001b[0;31mNameError\u001b[0m                                 Traceback (most recent call last)",
      "\u001b[1;32m/home/ravi/Projects/ravibert/main.ipynb Cell 1\u001b[0m line \u001b[0;36m5\n\u001b[1;32m     <a href='vscode-notebook-cell:/home/ravi/Projects/ravibert/main.ipynb#W1sZmlsZQ%3D%3D?line=49'>50</a>\u001b[0m \u001b[39m# Ensure that labels are provided for calculating the loss\u001b[39;00m\n\u001b[1;32m     <a href='vscode-notebook-cell:/home/ravi/Projects/ravibert/main.ipynb#W1sZmlsZQ%3D%3D?line=50'>51</a>\u001b[0m labels \u001b[39m=\u001b[39m batch[\u001b[39m2\u001b[39m]\n\u001b[0;32m---> <a href='vscode-notebook-cell:/home/ravi/Projects/ravibert/main.ipynb#W1sZmlsZQ%3D%3D?line=51'>52</a>\u001b[0m labels \u001b[39m=\u001b[39m labels\u001b[39m.\u001b[39mto(device)  \u001b[39m# Ensure labels are on the same device as the model\u001b[39;00m\n\u001b[1;32m     <a href='vscode-notebook-cell:/home/ravi/Projects/ravibert/main.ipynb#W1sZmlsZQ%3D%3D?line=53'>54</a>\u001b[0m \u001b[39m# Model forward pass with labels\u001b[39;00m\n\u001b[1;32m     <a href='vscode-notebook-cell:/home/ravi/Projects/ravibert/main.ipynb#W1sZmlsZQ%3D%3D?line=54'>55</a>\u001b[0m outputs \u001b[39m=\u001b[39m model(input_ids\u001b[39m=\u001b[39mbatch[\u001b[39m0\u001b[39m]\u001b[39m.\u001b[39mto(device), attention_mask\u001b[39m=\u001b[39mbatch[\u001b[39m1\u001b[39m]\u001b[39m.\u001b[39mto(device), start_positions\u001b[39m=\u001b[39mlabels)\n",
      "\u001b[0;31mNameError\u001b[0m: name 'device' is not defined"
     ]
    }
   ],
   "source": [
    "from transformers import BertTokenizer, BertForQuestionAnswering\n",
    "import torch\n",
    "from torch.nn.utils.rnn import pad_sequence\n",
    "from torch.utils.data import DataLoader, TensorDataset\n",
    "from transformers import AdamW\n",
    "import pandas as pd\n",
    "\n",
    "# Example data\n",
    "data = pd.read_json('assets//data.json')\n",
    "\n",
    "tokenizer = BertTokenizer.from_pretrained('bert-base-uncased')\n",
    "model = BertForQuestionAnswering.from_pretrained('bert-base-uncased')\n",
    "\n",
    "encoded_data = []\n",
    "max_len = 0\n",
    "\n",
    "for index, row in data.iterrows():\n",
    "    inputs = tokenizer(row['question'], row['context'], return_tensors='pt', truncation=True)\n",
    "    start_positions = tokenizer(row['answer'], return_tensors='pt')['input_ids']\n",
    "\n",
    "    encoded_data.append({\n",
    "        'input_ids': inputs['input_ids'].squeeze(),\n",
    "        'attention_mask': inputs['attention_mask'].squeeze(),\n",
    "        'start_positions': start_positions.squeeze()\n",
    "    })\n",
    "\n",
    "    max_len = max(max_len, inputs['input_ids'].size(1))\n",
    "\n",
    "# Pad sequences\n",
    "padded_input_ids = pad_sequence([item['input_ids'] for item in encoded_data], batch_first=True, padding_value=tokenizer.pad_token_id)\n",
    "padded_attention_mask = pad_sequence([item['attention_mask'] for item in encoded_data], batch_first=True, padding_value=0)\n",
    "padded_start_positions = pad_sequence([item['start_positions'] for item in encoded_data], batch_first=True, padding_value=tokenizer.pad_token_id)\n",
    "\n",
    "# Convert data to PyTorch tensors\n",
    "input_ids = torch.tensor(padded_input_ids)\n",
    "attention_mask = torch.tensor(padded_attention_mask)\n",
    "start_positions = torch.tensor(padded_start_positions)\n",
    "\n",
    "dataset = TensorDataset(input_ids, attention_mask, start_positions)\n",
    "dataloader = DataLoader(dataset, batch_size=4, shuffle=True)\n",
    "\n",
    "# Fine-tuning parameters\n",
    "optimizer = AdamW(model.parameters(), lr=1e-5)\n",
    "\n",
    "# Training loop\n",
    "for epoch in range(3):  # Adjust as needed\n",
    "    for batch in dataloader:\n",
    "        optimizer.zero_grad()\n",
    "\n",
    "        # Ensure that labels are provided for calculating the loss\n",
    "        labels = batch[2]\n",
    "        labels = labels.to(device)  # Ensure labels are on the same device as the model\n",
    "\n",
    "        # Model forward pass with labels\n",
    "        outputs = model(input_ids=batch[0].to(device), attention_mask=batch[1].to(device), start_positions=labels)\n",
    "        loss = outputs.loss\n",
    "\n",
    "        # Backward pass and optimization\n",
    "        loss.backward()\n",
    "        optimizer.step()\n",
    "\n"
   ]
  },
  {
   "cell_type": "code",
   "execution_count": null,
   "metadata": {},
   "outputs": [],
   "source": [
    "model.save_pretrained('fine_tuned_model')\n",
    "tokenizer.save_pretrained('fine_tuned_model')"
   ]
  }
 ],
 "metadata": {
  "kernelspec": {
   "display_name": "Python 3",
   "language": "python",
   "name": "python3"
  },
  "language_info": {
   "codemirror_mode": {
    "name": "ipython",
    "version": 3
   },
   "file_extension": ".py",
   "mimetype": "text/x-python",
   "name": "python",
   "nbconvert_exporter": "python",
   "pygments_lexer": "ipython3",
   "version": "3.10.12"
  }
 },
 "nbformat": 4,
 "nbformat_minor": 2
}
